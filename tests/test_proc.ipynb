{
 "cells": [
  {
   "cell_type": "markdown",
   "id": "ae12c6dd-1207-4d8d-8e86-6e15f29ff07f",
   "metadata": {},
   "source": [
    "# Módulo proc\n",
    "\n",
    "A página onde será testado é:\n",
    "\n",
    "[pagina de teste](http://pythonscraping.com/pages/page1.html)"
   ]
  },
  {
   "cell_type": "markdown",
   "id": "ad223140-5db5-4c84-a7b6-b1bbd091e255",
   "metadata": {},
   "source": [
    "## Função leitor_web(endereco:str) -> str"
   ]
  },
  {
   "cell_type": "code",
   "execution_count": 1,
   "id": "dabba4e2-480f-44d2-b4f1-1a3d72c2ae01",
   "metadata": {},
   "outputs": [],
   "source": [
    "# função leitor_web\n",
    "\n",
    "import requests\n",
    "def leitor_web(endereco_web: str) -> str:\n",
    "    pagina = requests.get(endereco_web)\n",
    "    return pagina.text\n",
    "\n",
    "    "
   ]
  },
  {
   "cell_type": "code",
   "execution_count": 2,
   "id": "3a647784-4dea-424b-8a32-c82259d0a737",
   "metadata": {},
   "outputs": [
    {
     "name": "stdout",
     "output_type": "stream",
     "text": [
      "<class 'str'>\n",
      "<html>\n",
      "<head>\n",
      "<title>A Useful Page</title>\n",
      "</head>\n",
      "<body>\n",
      "<h1>An Interesting Title</h1>\n",
      "<div>\n",
      "Lorem ipsum dolor sit amet, consectetur adipisicing elit, sed do eiusmod tempor incididunt ut labore et dolore magna aliqua. Ut enim ad minim veniam, quis nostrud exercitation ullamco laboris nisi ut aliquip ex ea commodo consequat. Duis aute irure dolor in reprehenderit in voluptate velit esse cillum dolore eu fugiat nulla pariatur. Excepteur sint occaecat cupidatat non proident, sunt in culpa qui officia deserunt mollit anim id est laborum.\n",
      "</div>\n",
      "</body>\n",
      "</html>\n",
      "\n"
     ]
    }
   ],
   "source": [
    "pagina1 = leitor_web(\"http://pythonscraping.com/pages/page1.html\")\n",
    "print(type(pagina1))\n",
    "print(pagina1)"
   ]
  },
  {
   "cell_type": "markdown",
   "id": "de34cdfc-a942-464a-9003-2d0cefc104d5",
   "metadata": {},
   "source": [
    "# Função extrator(pagina_web: str, tag: str) -> str:\n"
   ]
  },
  {
   "cell_type": "code",
   "execution_count": 3,
   "id": "d6211344-bddf-4be7-a378-3f8b02f51ce9",
   "metadata": {},
   "outputs": [],
   "source": [
    "# função extrator(pagina_web: str, tag: str) -> str\n",
    "\n",
    "from bs4 import BeautifulSoup\n",
    "def  extrator(pagina_web: str, tag: str) -> str:\n",
    "    pass"
   ]
  },
  {
   "cell_type": "code",
   "execution_count": 4,
   "id": "2d39dfad-aa4a-400d-bd6d-4baaeaa1a3cb",
   "metadata": {},
   "outputs": [],
   "source": [
    "soup = BeautifulSoup(pagina1, 'html.parser')"
   ]
  },
  {
   "cell_type": "code",
   "execution_count": 5,
   "id": "ad3864e4-7af6-4c5e-8ba3-6b57ddecd913",
   "metadata": {},
   "outputs": [
    {
     "name": "stdout",
     "output_type": "stream",
     "text": [
      "<title>A Useful Page</title>\n"
     ]
    }
   ],
   "source": [
    "print(soup.title)"
   ]
  },
  {
   "cell_type": "code",
   "execution_count": 6,
   "id": "915a03d7-432c-468c-95e3-341a191c9cca",
   "metadata": {},
   "outputs": [
    {
     "name": "stdout",
     "output_type": "stream",
     "text": [
      "<body>\n",
      "<h1>An Interesting Title</h1>\n",
      "<div>\n",
      "Lorem ipsum dolor sit amet, consectetur adipisicing elit, sed do eiusmod tempor incididunt ut labore et dolore magna aliqua. Ut enim ad minim veniam, quis nostrud exercitation ullamco laboris nisi ut aliquip ex ea commodo consequat. Duis aute irure dolor in reprehenderit in voluptate velit esse cillum dolore eu fugiat nulla pariatur. Excepteur sint occaecat cupidatat non proident, sunt in culpa qui officia deserunt mollit anim id est laborum.\n",
      "</div>\n",
      "</body>\n"
     ]
    }
   ],
   "source": [
    "print(soup.body)"
   ]
  },
  {
   "cell_type": "code",
   "execution_count": 8,
   "id": "1a2ef437-65b9-48a7-b346-3d84cbf348ff",
   "metadata": {},
   "outputs": [],
   "source": [
    "from bs4 import BeautifulSoup\n",
    "def  extrator(pagina_web: str, tag: str) -> BeautifulSoup:\n",
    "    soup = BeautifulSoup(pagina_web, 'html.parser')\n",
    "    return soup.find(tag)"
   ]
  },
  {
   "cell_type": "code",
   "execution_count": 9,
   "id": "4e9017bf-2038-4a1f-a01b-ccea77b0a23d",
   "metadata": {},
   "outputs": [],
   "source": [
    "a = extrator(pagina1, \"title\")"
   ]
  },
  {
   "cell_type": "code",
   "execution_count": 10,
   "id": "611ac5e1-ba9f-4632-9372-5ddc4675994e",
   "metadata": {},
   "outputs": [
    {
     "name": "stdout",
     "output_type": "stream",
     "text": [
      "<title>A Useful Page</title>\n"
     ]
    }
   ],
   "source": [
    "print(a)"
   ]
  },
  {
   "cell_type": "code",
   "execution_count": null,
   "id": "9e737644-774b-4969-8444-09013c78e152",
   "metadata": {},
   "outputs": [],
   "source": []
  }
 ],
 "metadata": {
  "kernelspec": {
   "display_name": "Python 3 (ipykernel)",
   "language": "python",
   "name": "python3"
  },
  "language_info": {
   "codemirror_mode": {
    "name": "ipython",
    "version": 3
   },
   "file_extension": ".py",
   "mimetype": "text/x-python",
   "name": "python",
   "nbconvert_exporter": "python",
   "pygments_lexer": "ipython3",
   "version": "3.10.9"
  }
 },
 "nbformat": 4,
 "nbformat_minor": 5
}
